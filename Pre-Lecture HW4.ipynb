{
 "cells": [
  {
   "cell_type": "markdown",
   "id": "20ff1ff1",
   "metadata": {},
   "source": [
    "# 1. The \"Pre-lecture\" video (above) mentioned the \"standard error of the mean\" as being the \"standard deviation\" of the distribution bootstrapped means. What is the difference between the \"standard error of the mean\" and the \"standard deviation\" of the original data? What distinct ideas do each of these capture? Explain this concisely in your own words."
   ]
  },
  {
   "cell_type": "markdown",
   "id": "87ebc53f",
   "metadata": {},
   "source": [
    "⁤Standard deviaton measures average distance of all the date points from their mean. Meanwhile, standard error mean is one kind of standard deviation but of the sample means rather regular datas. It is calculated by picking random set of sample from the population. ⁤\n",
    "\n",
    "\n",
    "⁤The main difference is that Standard deviation (SD) tells us how much the individual data points in a dataset differ from the average, giving us an idea of the overall spread. ⁤⁤On the other hand, standard error of the mean (SEM) focuses on the variability of the sample mean itself. ⁤⁤As we increase the sample size, the SEM gets smaller therefore we can be more confident that the sample mean is close to the true population mean. ⁤"
   ]
  },
  {
   "cell_type": "markdown",
   "id": "7f75a57d",
   "metadata": {},
   "source": [
    "# 2. The \"Pre-lecture\" video (above) suggested that the \"standard error of the mean\" could be used to create a confidence interval, but didn't describe exactly how to do this. How can we use the \"standard error of the mean\" to create a 95% confidence interval which \"covers 95% of the bootstrapped sample means\"? Explain this concisely in your own words."
   ]
  },
  {
   "cell_type": "markdown",
   "id": "c93ba3a1",
   "metadata": {},
   "source": [
    "You can use the SEM (calculated from the bootstrapped means) to create a 95% confidence interval that includes the middle 95% of those bootstrapped sample means. You calculate the SEM, multiply it by 1.96, and then add and subtract that value from the sample mean to get your interval."
   ]
  },
  {
   "cell_type": "markdown",
   "id": "eaba1c3b",
   "metadata": {},
   "source": [
    "# 3. Creating the \"sample mean plus and minus about 2 times the standard error\" confidence interval addressed in the previous problem should indeed cover approximately 95% of the bootstrapped sample means. Alternatively, how do we create a 95% bootstrapped confidence interval using the bootstrapped means (without using their standard deviation to estimate the standard error of the mean)? Explain this concisely in your own words."
   ]
  },
  {
   "cell_type": "markdown",
   "id": "b06892e6",
   "metadata": {},
   "source": [
    "This confidence interval is based only on the spread of the bootstrapped means, so there' s no need to assume normality or calculate the standard error. The percentile method works well when the distribution is unknown or not normal. It ensures 95% of the bootstrapped means to fall within the interval and gives an idea of the uncertainty around the sample mean. "
   ]
  },
  {
   "cell_type": "markdown",
   "id": "a1c6afa8",
   "metadata": {},
   "source": [
    "# 4. The \"Pre-lecture\" video (above) mentioned that bootstrap confidence intervals could apply to other statistics of the sample, such as the \"median\". Work with a ChatBot to create code to produce a 95% bootstrap confidence interval for a population mean based on a sample that you have and comment the code to demonstrate how the code can be changed to produce a 95% bootstrap confidence interval for different population parameter (other than the population mean, such as the population median)."
   ]
  },
  {
   "cell_type": "code",
   "execution_count": 1,
   "id": "a5b21845",
   "metadata": {},
   "outputs": [
    {
     "name": "stdout",
     "output_type": "stream",
     "text": [
      "95% Bootstrap Confidence Interval for the Mean: (4.029749999999999, 6.82025)\n",
      "95% Bootstrap Confidence Interval for the Median: (3.3, 7.35)\n"
     ]
    }
   ],
   "source": [
    "import numpy as np\n",
    "\n",
    "# Sample data\n",
    "data = [2.1, 2.5, 3.3, 4.1, 5.0, 5.5, 6.7, 7.2, 8.0, 9.1]\n",
    "\n",
    "# Function to perform bootstrapping and calculate confidence intervals\n",
    "def bootstrap_confidence_interval(data, num_bootstrap_samples=1000, ci_percentile=95, statistic=np.mean):\n",
    "    \"\"\"\n",
    "    Calculate the bootstrap confidence interval for a specified statistic (mean, median, etc.).\n",
    "    \n",
    "    Parameters:\n",
    "    - data: The original sample data.\n",
    "    - num_bootstrap_samples: Number of bootstrap samples to generate.\n",
    "    - ci_percentile: Confidence level (95 for a 95% CI).\n",
    "    - statistic: The function to calculate the statistic (e.g., np.mean, np.median).\n",
    "    \n",
    "    Returns:\n",
    "    - (lower_bound, upper_bound): The lower and upper bounds of the confidence interval.\n",
    "    \"\"\"\n",
    "    # Array to store the bootstrap statistics\n",
    "    bootstrapped_stats = []\n",
    "    \n",
    "    # Perform bootstrapping\n",
    "    for _ in range(num_bootstrap_samples):\n",
    "        # Generate a bootstrap sample (resample with replacement)\n",
    "        bootstrap_sample = np.random.choice(data, size=len(data), replace=True)\n",
    "        \n",
    "        # Calculate the statistic for the bootstrap sample and store it\n",
    "        bootstrapped_stat = statistic(bootstrap_sample)\n",
    "        bootstrapped_stats.append(bootstrapped_stat)\n",
    "    \n",
    "    # Calculate the percentiles for the confidence interval\n",
    "    lower_percentile = (100 - ci_percentile) / 2\n",
    "    upper_percentile = 100 - lower_percentile\n",
    "    \n",
    "    # Calculate the confidence interval\n",
    "    lower_bound = np.percentile(bootstrapped_stats, lower_percentile)\n",
    "    upper_bound = np.percentile(bootstrapped_stats, upper_percentile)\n",
    "    \n",
    "    return lower_bound, upper_bound\n",
    "\n",
    "# Calculate the 95% bootstrap confidence interval for the population mean\n",
    "mean_ci = bootstrap_confidence_interval(data, statistic=np.mean)\n",
    "print(f\"95% Bootstrap Confidence Interval for the Mean: {mean_ci}\")\n",
    "\n",
    "# To calculate a confidence interval for the population median instead of the mean:\n",
    "# Change the 'statistic' parameter from np.mean to np.median\n",
    "median_ci = bootstrap_confidence_interval(data, statistic=np.median)\n",
    "print(f\"95% Bootstrap Confidence Interval for the Median: {median_ci}\")\n"
   ]
  },
  {
   "cell_type": "markdown",
   "id": "cb7eee43",
   "metadata": {},
   "source": [
    "# Chatbot Summary:\n",
    "\n",
    "In this session, we covered several key concepts related to bootstrapping and confidence intervals:\n",
    "\n",
    "Standard Error of the Mean (SEM) vs. Standard Deviation:\n",
    "\n",
    "The SEM measures the variability of the sample mean, while the standard deviation measures the variability of individual data points in the sample.\n",
    "We discussed how the SEM is used to create a 95% confidence interval (CI) using the formula \n",
    "𝑥±1.96×SEM\n",
    "\n",
    "Bootstrap Confidence Interval for the Mean:\n",
    "\n",
    "We explained how to create a 95% bootstrap confidence interval using the percentile method, which involves sorting the bootstrapped sample means and finding the 2.5th and 97.5th percentiles.\n",
    "Code for Bootstrap Confidence Intervals:\n",
    "\n",
    "I provided Python code to generate a 95% bootstrap confidence interval for the population mean and explained how to modify the code to calculate the confidence interval for other statistics, such as the median.\n",
    "The code resamples the data with replacement, calculates the desired statistic (mean or median), and uses the percentiles to compute the confidence interval.\n",
    "\n",
    "Link: https://chatgpt.com/share/66ff50c7-cef4-800f-9b50-b24a9f6d5826"
   ]
  }
 ],
 "metadata": {
  "kernelspec": {
   "display_name": "Python 3 (ipykernel)",
   "language": "python",
   "name": "python3"
  },
  "language_info": {
   "codemirror_mode": {
    "name": "ipython",
    "version": 3
   },
   "file_extension": ".py",
   "mimetype": "text/x-python",
   "name": "python",
   "nbconvert_exporter": "python",
   "pygments_lexer": "ipython3",
   "version": "3.11.6"
  }
 },
 "nbformat": 4,
 "nbformat_minor": 5
}
