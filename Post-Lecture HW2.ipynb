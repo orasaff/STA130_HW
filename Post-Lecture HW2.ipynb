{
 "cells": [
  {
   "cell_type": "markdown",
   "id": "2e672106",
   "metadata": {},
   "source": [
    "# 5. Recreate (or resume) the previous ChatBot session from question \"4\" above, and now prompt the ChatBot session that you have a couple extensions of the code to show it, and then show it each of the extentions of the \"Markovian ChatBot code\" below in turn"
   ]
  },
  {
   "cell_type": "markdown",
   "id": "cc7f2f80",
   "metadata": {},
   "source": [
    "# Chatbot Summary Session 1"
   ]
  },
  {
   "cell_type": "markdown",
   "id": "a22ae428",
   "metadata": {},
   "source": [
    "In this session, you shared two extensions of the Markovian Chatbot code, and I provided detailed explanations of how each extension works.\n",
    "\n",
    "Summary of Extensions:\n",
    "Extension #1:\n",
    "\n",
    "This extension modifies the chatbot to track word pairs (bigrams) rather than individual words.\n",
    "It uses word_used2 and next_word2 to store and predict the next word based on pairs of consecutive words (bigrams), improving the context and accuracy of word predictions.\n",
    "Extension #2:\n",
    "\n",
    "This extension adds character-specific dialogue generation using a dataset (avatar) that contains a character column.\n",
    "The code keeps track of word pair (bigram) frequencies and next-word transitions for each character separately.\n",
    "It allows the chatbot to generate more realistic dialogue by mimicking the speaking patterns of different characters based on the dataset.\n",
    "Overall, these extensions enhanced the chatbot's ability to predict the next word by using more context (bigrams) and by associating different patterns with individual characters.\n",
    "\n",
    "Link https://chatgpt.com/share/66eb4369-9818-800f-800a-f81dc5122d12"
   ]
  },
  {
   "cell_type": "markdown",
   "id": "87deabcd",
   "metadata": {},
   "source": [
    "# 6. Report on your experience interacting with ChatBots to understand the Monte Hall problem and \"Markovian ChatBot\" code"
   ]
  },
  {
   "cell_type": "markdown",
   "id": "91f78c65",
   "metadata": {},
   "source": [
    "Discuss how quickly the ChatBot was able to be helpful for each of the above questions, and if so, how?\n",
    "\n",
    "    Using the Chatbot, I was able to get a quick response of how the differences in code of the extension #1 and #2 from the original \"Markovian Chatbot\" code actually made the chatbot more effective in predicting its next word. For instance, when I saw the extension codes, I was not able to recognize what all the unfamilliar functions was doing but ChatGPT helped me get the hang of it by providing additional comment lines that explained what the code below worked to achieve. This helped me alot in not only comprehending the code in a modular manner but also in looking it as a wholisitic program of \"Markovian ChatBot.\"\n",
    "\n",
    "Discuss whether or not interacting with ChatBot to try to figure things out was frustrating or unhelpful, and if so, how?\n",
    "\n",
    "    There were parts that I became frustrated during the use of the Chatbot and that was when it didn't give enough explanation of some advanced use of functions in the code such as lamba from the code 'defaultdict(lambda: defaultdict(int))'. It did tell me that this line of code basically tracked transition between words but was lacking details of what exactly lambda meant and was used for. This led me to search again in the Google search bar for further clarification.\n",
    "\n",
    "\n",
    "Based on your experiences to date (e.g., including using ChatBots to troubleshoot coding errors in the previous homework), provide an overall assessment evaluating the usefulness of ChatBots as tools to help you understand code\n",
    "    \n",
    "    Overall, I agree that its not easy to get the exact answer you want using a ChatBots and it really depends on how you prompt it. However, it is also evident that having ChatBots is extremely convenient and practical compared to not using one. Its like choosing to use motor to move your boat versus the other option of rowing by paddles; its not mandatory but still helps alot. I think the flexibility of customizing your questions and the vast lake of data ChatBots form their answers from really do help my progress in work."
   ]
  },
  {
   "cell_type": "markdown",
   "id": "68ca3885",
   "metadata": {},
   "source": [
    "# 7. Reflect on your experience interacting with ChatBot and describe how your perception of AI-driven assistance tools in the context of learning coding, statistics, and data science has been evolving (or not) since joining the course"
   ]
  },
  {
   "cell_type": "markdown",
   "id": "0fdd2a17",
   "metadata": {},
   "source": [
    "When I first started using AI tools in this course, I saw them as a shortcut for fixing small errors or figuring out bits of code. But as I progressed, now I appreciate how they can guide me through more complex subjects I may face during data analysis or statistical reasoning; this may be something like an in-depth concept or terminologies. They’ve helped me tackle difficult problems faster, though I sometimes have to double-check its repsonse or do more research. Still, these tools have made it easier to approach new material with less fear of getting lost in it, and I’ve come to use them more frequently as a supportive learning tool."
   ]
  },
  {
   "cell_type": "markdown",
   "id": "ab747ab0",
   "metadata": {},
   "source": [
    "# 8. ChatBots consume text data available on the web or platforms, and thus represents a new way to \"search consensensus\" that condenses and summarizes mainstream human thought"
   ]
  },
  {
   "cell_type": "markdown",
   "id": "827970b8",
   "metadata": {},
   "source": [
    "# Chatbot Summary Session 1"
   ]
  },
  {
   "cell_type": "markdown",
   "id": "69326ffd",
   "metadata": {},
   "source": [
    "In this session, we discussed the relevance of key skills for a career as a data scientist. We identified essential skills, including statistical analysis, programming (especially in Python and R), data visualization, machine learning, data wrangling, problem-solving, communication, domain knowledge, cloud computing, and collaboration. These skills are critical for navigating the data science field and effectively deriving insights from data. We also explored how developing these competencies can prepare you for a successful career in data science.\n",
    "\n",
    "Link: https://chatgpt.com/share/66ecc51e-1678-800f-b70f-01a1bc1ae62f"
   ]
  },
  {
   "cell_type": "markdown",
   "id": "cf814a96",
   "metadata": {},
   "source": [
    "   4. Paraphrase the assessments and conclusions of your conversation in the form of a reflection on your current thoughts regarding your potential future career(s) and how you can go about building the skills you need to pursue it \n",
    "    \n",
    "    Looking back on our discussion about becoming a data scientist, I realize that key skills include statistical analysis, programming—especially in Python and R—data visualization, machine learning, and strong communication. It’s also important to understand cloud computing and have some domain knowledge. To develop these skills, I plan to take online courses, work on hands-on projects, and look for internships or collaborative opportunities. By concentrating on these areas, I can set myself up for a successful career in data science.\n",
    "\n",
    "   5. Give your thoughts regarding the helpfulness or limitations of your conversation with a ChatBot, and describe the next steps you would take to pursue this conversation further if you felt the information the ChatBot provides was somewhat high level and general, and perhaps lacked the depth and detailed knowledge of a dedicated subject matter expert who had really take the time to understand the ins and outs of the industry and career path in question.\n",
    "\n",
    "    In my experience, conversations with a ChatBot can be quite helpful, especially for getting quick insights and general information. However, I sometimes find that the responses can be a bit surface-level and lack the in-depth knowledge that a real expert would provide. But at the same time, I am always able to seek out specialized resources, like industry-specific articles, online forums that mayble I can use concurrently with the ChatBot to fill in for this gap. This way, I can gain a deeper understanding and get more tailored advice about my career path."
   ]
  }
 ],
 "metadata": {
  "kernelspec": {
   "display_name": "Python 3 (ipykernel)",
   "language": "python",
   "name": "python3"
  },
  "language_info": {
   "codemirror_mode": {
    "name": "ipython",
    "version": 3
   },
   "file_extension": ".py",
   "mimetype": "text/x-python",
   "name": "python",
   "nbconvert_exporter": "python",
   "pygments_lexer": "ipython3",
   "version": "3.11.6"
  }
 },
 "nbformat": 4,
 "nbformat_minor": 5
}
